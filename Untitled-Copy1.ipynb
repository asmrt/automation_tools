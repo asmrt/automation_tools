{
 "cells": [
  {
   "cell_type": "code",
   "execution_count": 18,
   "metadata": {},
   "outputs": [
    {
     "name": "stdout",
     "output_type": "stream",
     "text": [
      "2019-11-12\n",
      "30\n"
     ]
    }
   ],
   "source": [
    "#当月の月末日を取得\n",
    "# https://qiita.com/peketamin/items/c38de79e2a3946ec2358\n",
    "# https://note.nkmk.me/python-datetime-first-last-date-last-week/\n",
    "import datetime\n",
    "import calendar\n",
    "\n",
    "def get_last_date(dt):\n",
    "    return calendar.monthrange(dt.year, dt.month)[1]\n",
    "\n",
    "print(datetime.date.today())\n",
    "\n",
    "\n",
    "last_day_m = get_last_date(datetime.date.today())\n",
    "print(last_day_m)"
   ]
  },
  {
   "cell_type": "code",
   "execution_count": 21,
   "metadata": {},
   "outputs": [
    {
     "name": "stdout",
     "output_type": "stream",
     "text": [
      "2019-11-12 23:41:15.931519\n",
      "2019-11-01\n"
     ]
    }
   ],
   "source": [
    "#月初を取得\n",
    "\n",
    "def get_first_date(dt):\n",
    "    return dt.replace(day=1)\n",
    "\n",
    "dt = datetime.datetime.today()\n",
    "#today\n",
    "print(dt)\n",
    "\n",
    "#月初\n",
    "first_day_m = get_first_date(dt).date()\n",
    "print(first_day_m)"
   ]
  },
  {
   "cell_type": "code",
   "execution_count": 27,
   "metadata": {},
   "outputs": [
    {
     "name": "stdout",
     "output_type": "stream",
     "text": [
      "2019-11-01\n",
      "2019-11-02\n",
      "2019-11-03\n",
      "2019-11-04\n",
      "2019-11-05\n",
      "2019-11-06\n",
      "2019-11-07\n",
      "2019-11-08\n",
      "2019-11-09\n",
      "2019-11-10\n",
      "2019-11-11\n",
      "2019-11-12\n",
      "2019-11-13\n",
      "2019-11-14\n",
      "2019-11-15\n",
      "2019-11-16\n",
      "2019-11-17\n",
      "2019-11-18\n",
      "2019-11-19\n",
      "2019-11-20\n",
      "2019-11-21\n",
      "2019-11-22\n",
      "2019-11-23\n",
      "2019-11-24\n",
      "2019-11-25\n",
      "2019-11-26\n",
      "2019-11-27\n",
      "2019-11-28\n",
      "2019-11-29\n",
      "2019-11-30\n"
     ]
    }
   ],
   "source": [
    "# 1ヶ月分、日付を出力する。\n",
    "cnt = 0\n",
    "day_list = []\n",
    "while cnt < last_day_m:\n",
    "    day_list.append(first_day_m + datetime.timedelta(days=cnt))\n",
    "    print(day_list[cnt])\n",
    "    cnt += 1"
   ]
  },
  {
   "cell_type": "code",
   "execution_count": 1,
   "metadata": {},
   "outputs": [
    {
     "name": "stdout",
     "output_type": "stream",
     "text": [
      "Requirement already satisfied: jpholiday in /data/data/ru.iiec.pydroid3/files/aarch64-linux-android/lib/python3.7/site-packages (0.0.7)\n",
      "\u001b[33mYou are using pip version 19.0.3, however version 19.3.1 is available.\n",
      "You should consider upgrading via the 'pip install --upgrade pip' command.\u001b[0m\n",
      "Note: you may need to restart the kernel to use updated packages.\n"
     ]
    }
   ],
   "source": [
    "pip install jpholiday"
   ]
  },
  {
   "cell_type": "code",
   "execution_count": 5,
   "metadata": {},
   "outputs": [
    {
     "name": "stdout",
     "output_type": "stream",
     "text": [
      "True\n",
      "True\n",
      "False\n"
     ]
    }
   ],
   "source": [
    "# 指定日が祝日か判定\n",
    "import jpholiday\n",
    "import datetime\n",
    "print(jpholiday.is_holiday(datetime.date(2017, 1, 1)))\n",
    "print(jpholiday.is_holiday(datetime.date(2017, 1, 2)))\n",
    "print(jpholiday.is_holiday(datetime.date(2017, 1, 3)))"
   ]
  }
 ],
 "metadata": {
  "kernelspec": {
   "display_name": "Python 3",
   "language": "python",
   "name": "python3"
  },
  "language_info": {
   "codemirror_mode": {
    "name": "ipython",
    "version": 3
   },
   "file_extension": ".py",
   "mimetype": "text/x-python",
   "name": "python",
   "nbconvert_exporter": "python",
   "pygments_lexer": "ipython3",
   "version": "3.7.2"
  }
 },
 "nbformat": 4,
 "nbformat_minor": 2
}
